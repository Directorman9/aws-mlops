{
 "cells": [
  {
   "cell_type": "code",
   "execution_count": 51,
   "id": "c58af5e3-d706-458f-bf0e-9a621fd4c822",
   "metadata": {},
   "outputs": [
    {
     "name": "stdout",
     "output_type": "stream",
     "text": [
      "Requirement already satisfied: python-dotenv in /opt/conda/lib/python3.10/site-packages (1.0.1)\n"
     ]
    }
   ],
   "source": [
    "!pip install python-dotenv"
   ]
  },
  {
   "cell_type": "code",
   "execution_count": 48,
   "id": "da16ae2a-b96f-4640-9d55-52de19763df8",
   "metadata": {},
   "outputs": [],
   "source": [
    "import sagemaker, os\n",
    "from sagemaker.sklearn.processing import SKLearnProcessor\n",
    "from sagemaker.network import NetworkConfig\n",
    "from sagemaker.processing import ProcessingInput, ProcessingOutput\n",
    "from dotenv import load_dotenv"
   ]
  },
  {
   "cell_type": "code",
   "execution_count": 49,
   "id": "193b817a-56e1-49dc-b931-c2311352fee9",
   "metadata": {},
   "outputs": [],
   "source": [
    "load_dotenv()\n",
    "sagemaker_session = sagemaker.Session()\n",
    "role = sagemaker.get_execution_role()"
   ]
  },
  {
   "cell_type": "code",
   "execution_count": 52,
   "id": "c72d18d0-909d-44b8-813c-07c1a66e751d",
   "metadata": {},
   "outputs": [
    {
     "name": "stderr",
     "output_type": "stream",
     "text": [
      "INFO:sagemaker.image_uris:Defaulting to only available Python version: py3\n"
     ]
    }
   ],
   "source": [
    "processor = SKLearnProcessor(\n",
    "    framework_version=\"0.23-1\",\n",
    "    role=role,\n",
    "    instance_type=\"ml.t3.large\",\n",
    "    instance_count=1,\n",
    "    sagemaker_session=sagemaker_session,\n",
    "    env={\n",
    "        'DB_HOST': os.environ.get(\"DB_HOST\"),\n",
    "        'DB_PORT': os.environ.get(\"DB_PORT\"),\n",
    "        'DB_NAME': os.environ.get(\"DB_NAME\"),\n",
    "        'DB_USER': os.environ.get(\"DB_USER\"),\n",
    "        'DB_PASS': os.environ.get(\"DB_PASS\"),\n",
    "    },\n",
    "    network_config=NetworkConfig(\n",
    "                    subnets=[os.environ.get(\"SUBNET_ID\")],\n",
    "                    security_group_ids=[os.environ.get(\"SECURITY_GROUP_ID\")]\n",
    "    )\n",
    ")"
   ]
  },
  {
   "cell_type": "code",
   "execution_count": 53,
   "id": "d4cfb990-db04-43d3-ace4-06905f95750e",
   "metadata": {},
   "outputs": [],
   "source": [
    "inputs = []\n",
    "outputs = [ProcessingOutput(source=\"/opt/ml/processing/output\", destination=\"s3://assurified-mlops\")]\n",
    "#Note: Here source is the folder in the container while destination is the s3 location where container content will be copied to."
   ]
  },
  {
   "cell_type": "code",
   "execution_count": 57,
   "id": "c9b7b7ee-7563-4218-95ed-24eb73b7547f",
   "metadata": {
    "scrolled": true
   },
   "outputs": [
    {
     "name": "stderr",
     "output_type": "stream",
     "text": [
      "INFO:sagemaker:Creating processing-job with name sagemaker-scikit-learn-2024-05-23-14-38-21-843\n"
     ]
    },
    {
     "name": "stdout",
     "output_type": "stream",
     "text": [
      ".........................................................\u001b[34mCollecting psycopg2-binary\n",
      "  Downloading psycopg2_binary-2.9.9-cp37-cp37m-manylinux_2_17_x86_64.manylinux2014_x86_64.whl (3.0 MB)\n",
      "     ━━━━━━━━━━━━━━━━━━━━━━━━━━━━━━━━━━━━━━━━ 3.0/3.0 MB 56.2 MB/s eta 0:00:00\u001b[0m\n",
      "\u001b[34mInstalling collected packages: psycopg2-binary\u001b[0m\n",
      "\u001b[34mSuccessfully installed psycopg2-binary-2.9.9\u001b[0m\n",
      "\u001b[34mWARNING: Running pip as the 'root' user can result in broken permissions and conflicting behaviour with the system package manager. It is recommended to use a virtual environment instead: https://pip.pypa.io/warnings/venv\u001b[0m\n",
      "\u001b[34m[notice] A new release of pip is available: 23.0 -> 24.0\u001b[0m\n",
      "\u001b[34m[notice] To update, run: pip install --upgrade pip\u001b[0m\n",
      "\u001b[34maccuracy is:  0.9141193595342066\u001b[0m\n",
      "\u001b[34mprecision is:  0.9141193595342066\u001b[0m\n",
      "\u001b[34mrecall is:  1.0\u001b[0m\n",
      "\u001b[34mF1 is:  0.9551330798479086\u001b[0m\n",
      "\u001b[34mConfusion_matrix is:  [[628   0]\n",
      " [ 59   0]]\u001b[0m\n",
      "\u001b[34mminimum is 0.8370947758251247\u001b[0m\n",
      "\u001b[34mBulk insert successful\u001b[0m\n",
      "\u001b[34mPostgreSQL connection is closed\u001b[0m\n",
      "\u001b[34mProcess completed.\u001b[0m\n",
      "\n"
     ]
    }
   ],
   "source": [
    "processor.run(\n",
    "    code=\"poc.py\",\n",
    "    arguments=['--customer_id', 'a1baf097-7ebb-4089-ba94-268d40d88e60'],\n",
    "    inputs=inputs,\n",
    "    outputs=outputs,\n",
    "    wait=True,\n",
    "    logs=True,\n",
    ")"
   ]
  },
  {
   "cell_type": "code",
   "execution_count": null,
   "id": "2ca94bdb-d91f-424b-9e46-ac81f0095586",
   "metadata": {},
   "outputs": [],
   "source": []
  }
 ],
 "metadata": {
  "kernelspec": {
   "display_name": "Python 3 (ipykernel)",
   "language": "python",
   "name": "python3"
  },
  "language_info": {
   "codemirror_mode": {
    "name": "ipython",
    "version": 3
   },
   "file_extension": ".py",
   "mimetype": "text/x-python",
   "name": "python",
   "nbconvert_exporter": "python",
   "pygments_lexer": "ipython3",
   "version": "3.10.14"
  }
 },
 "nbformat": 4,
 "nbformat_minor": 5
}
